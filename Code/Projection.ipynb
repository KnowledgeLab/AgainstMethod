{
 "cells": [
  {
   "cell_type": "code",
   "execution_count": 1,
   "metadata": {},
   "outputs": [],
   "source": [
    "import gensim\n",
    "import pandas as pd\n",
    "import numpy as np\n",
    "import sklearn\n",
    "import warnings\n",
    "warnings.filterwarnings(\"ignore\", category=DeprecationWarning) \n",
    "\n",
    "def normalize(vector):\n",
    "    normalized_vector = vector / np.linalg.norm(vector)\n",
    "    return normalized_vector\n",
    "\n",
    "def dimension(model, positives, negatives):\n",
    "    diff = sum([normalize(model[x]) for x in positives]) - sum([normalize(model[y]) for y in negatives])\n",
    "    return diff\n",
    "\n",
    "def makeDF(model, dim, word_list):\n",
    "    good_to_bad = []\n",
    "    for word in word_list:\n",
    "        good_to_bad.append(sklearn.metrics.pairwise.cosine_similarity(model[word].reshape(1,-1), dim.reshape(1,-1))[0][0])\n",
    "    df = pd.DataFrame({'good_to_bad': good_to_bad}, index = word_list)\n",
    "    return df\n",
    "\n",
    "def project_word(model, pos_lst, neg_lst, projecting_words):\n",
    "    dim = dimension(model, pos_lst, neg_lst)\n",
    "    result_df = makeDF(model, dim, projecting_words)\n",
    "    result_df = result_df.sort_values(by = ['good_to_bad'], ascending= False)\n",
    "    return (result_df)\n",
    "\n",
    "pos_lst = ['good', 'better', 'right', 'satisfactory', 'positive', 'effective', 'sufficient', 'excellent', 'success']\n",
    "neg_lst = ['bad', 'worse', 'wrong', 'unsatisfactory', 'negative', 'ineffective', 'insufficient', 'failed', 'failure']\n",
    "\n",
    "quant_words = [\"measure\", 'result', 'performance', 'hypothesis', 'finding']\n",
    "qual_words = [\"political\", \"social\", \"historical\", 'theory', 'context']\n",
    "total_words = quant_words + qual_words"
   ]
  },
  {
   "cell_type": "code",
   "execution_count": 2,
   "metadata": {},
   "outputs": [],
   "source": [
    "qual_model = gensim.models.Word2Vec.load(\"qual_model\")\n",
    "qual_proj = project_word(qual_model, pos_lst, neg_lst, total_words)"
   ]
  },
  {
   "cell_type": "code",
   "execution_count": 3,
   "metadata": {},
   "outputs": [],
   "source": [
    "quant_model = gensim.models.Word2Vec.load(\"quant_model\")\n",
    "quant_proj = project_word(quant_model, pos_lst, neg_lst, total_words)"
   ]
  },
  {
   "cell_type": "code",
   "execution_count": 4,
   "metadata": {},
   "outputs": [
    {
     "data": {
      "text/plain": [
       "(-0.5969539798258481, -0.6969696969696969)"
      ]
     },
     "execution_count": 4,
     "metadata": {},
     "output_type": "execute_result"
    }
   ],
   "source": [
    "def compute_corr(proj_1, proj_2):\n",
    "    proj_1['order'] = [i for i in range(1, len(proj_1) + 1)]\n",
    "    proj_2['order'] = [i for i in range(1, len(proj_2) + 1)]\n",
    "    \n",
    "    proj_1_alphabet_order = proj_1.sort_index()\n",
    "    proj_2_alphabet_order = proj_2.sort_index()\n",
    "\n",
    "    pearson_corr = proj_1_alphabet_order['good_to_bad'].corr(proj_2_alphabet_order['good_to_bad'])\n",
    "    rank_corr = proj_1_alphabet_order['order'].corr(proj_2_alphabet_order['order'], method = 'spearman')\n",
    "    return (pearson_corr, rank_corr)\n",
    "\n",
    "compute_corr(qual_proj, quant_proj)"
   ]
  },
  {
   "cell_type": "code",
   "execution_count": 5,
   "metadata": {},
   "outputs": [],
   "source": [
    "fig_2_word_lst = []\n",
    "with open(\"Fig_2_words.tsv\", 'r') as f:\n",
    "    for line in f:\n",
    "        fig_2_word_lst.append(line.rstrip(\"\\n\"))"
   ]
  },
  {
   "cell_type": "code",
   "execution_count": 6,
   "metadata": {},
   "outputs": [
    {
     "data": {
      "text/plain": [
       "(-0.36806088195529324, -0.33795034079844205)"
      ]
     },
     "execution_count": 6,
     "metadata": {},
     "output_type": "execute_result"
    }
   ],
   "source": [
    "quant_fig_2 = project_word(quant_model, pos_lst, neg_lst, fig_2_word_lst)\n",
    "qual_fig_2 = project_word(qual_model, pos_lst, neg_lst, fig_2_word_lst)\n",
    "\n",
    "compute_corr(quant_fig_2, qual_fig_2)"
   ]
  }
 ],
 "metadata": {
  "kernelspec": {
   "display_name": "Python 3",
   "language": "python",
   "name": "python3"
  },
  "language_info": {
   "codemirror_mode": {
    "name": "ipython",
    "version": 3
   },
   "file_extension": ".py",
   "mimetype": "text/x-python",
   "name": "python",
   "nbconvert_exporter": "python",
   "pygments_lexer": "ipython3",
   "version": "3.7.4"
  }
 },
 "nbformat": 4,
 "nbformat_minor": 2
}
